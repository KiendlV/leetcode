{
 "cells": [
  {
   "cell_type": "code",
   "execution_count": 1,
   "metadata": {},
   "outputs": [],
   "source": [
    "l1 = [2,4,3]\n",
    "l2 = [5,6,4]"
   ]
  },
  {
   "cell_type": "code",
   "execution_count": 79,
   "metadata": {},
   "outputs": [],
   "source": [
    "def addTwoNumbers(l1 , l2):\n",
    "    lists = [l1,l2]\n",
    "\n",
    "    def revnum(list):\n",
    "            rev_numb = \"\"\n",
    "            for _ in list[::-1]:\n",
    "                rev_numb += str(_)\n",
    "            rev_numb = int(rev_numb)\n",
    "            return rev_numb\n",
    "    number = []\n",
    "    for list in lists:\n",
    "        number.append(revnum(list))\n",
    "\n",
    "    def AddNumb(number1,number2):\n",
    "        return number1 + number2\n",
    "\n",
    "    added = AddNumb(number[0],number[1])\n",
    "\n",
    "    added_str = str(added)\n",
    "\n",
    "    final_list = []\n",
    "\n",
    "    for el in added_str:\n",
    "         print(el)\n",
    "         final_list.append(el)\n",
    "\n",
    "    print(final_list)\n"
   ]
  },
  {
   "cell_type": "code",
   "execution_count": 80,
   "metadata": {},
   "outputs": [
    {
     "name": "stdout",
     "output_type": "stream",
     "text": [
      "8\n",
      "0\n",
      "7\n",
      "['8', '0', '7']\n"
     ]
    }
   ],
   "source": [
    "addTwoNumbers(l1,l2)"
   ]
  },
  {
   "cell_type": "code",
   "execution_count": null,
   "metadata": {},
   "outputs": [],
   "source": []
  }
 ],
 "metadata": {
  "kernelspec": {
   "display_name": "Python 3",
   "language": "python",
   "name": "python3"
  },
  "language_info": {
   "codemirror_mode": {
    "name": "ipython",
    "version": 3
   },
   "file_extension": ".py",
   "mimetype": "text/x-python",
   "name": "python",
   "nbconvert_exporter": "python",
   "pygments_lexer": "ipython3",
   "version": "3.11.4"
  }
 },
 "nbformat": 4,
 "nbformat_minor": 2
}
