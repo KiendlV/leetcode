{
 "cells": [
  {
   "cell_type": "code",
   "execution_count": 69,
   "metadata": {},
   "outputs": [
    {
     "name": "stdout",
     "output_type": "stream",
     "text": [
      "['a']\n",
      "['a', 'b']\n",
      "['a', 'b', 'c']\n",
      "3\n",
      "['b']\n",
      "['b', 'c']\n",
      "2\n",
      "['b']\n",
      "[3, 2]\n"
     ]
    }
   ],
   "source": [
    "string = \"abcabcbb\"\n",
    "\n",
    "counter = 0\n",
    "max_val = int()\n",
    "\n",
    "max_val_list = []\n",
    "\n",
    "item_L = []\n",
    "\n",
    "for idx1,item1 in enumerate(string):\n",
    "    current_leftbound = string[idx1]\n",
    "    if item1 not in item_L:\n",
    "        item_L.append(item1)\n",
    "        counter += 1\n",
    "        print(item_L)\n",
    "        #print(counter)\n",
    "    else:           \n",
    "        item_L = []\n",
    "        #print(counter)\n",
    "        max_val = counter\n",
    "        print(max_val)\n",
    "        max_val_list.append(max_val)\n",
    "        counter = 0\n",
    "print(max_val_list)\n",
    "          \n",
    "        \n",
    "\n",
    "\n"
   ]
  }
 ],
 "metadata": {
  "kernelspec": {
   "display_name": "Python 3",
   "language": "python",
   "name": "python3"
  },
  "language_info": {
   "codemirror_mode": {
    "name": "ipython",
    "version": 3
   },
   "file_extension": ".py",
   "mimetype": "text/x-python",
   "name": "python",
   "nbconvert_exporter": "python",
   "pygments_lexer": "ipython3",
   "version": "3.11.4"
  }
 },
 "nbformat": 4,
 "nbformat_minor": 2
}
