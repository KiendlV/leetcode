{
 "cells": [
  {
   "cell_type": "code",
   "execution_count": 87,
   "metadata": {},
   "outputs": [],
   "source": [
    "nums = [1,2,3]\n",
    "target = 9"
   ]
  },
  {
   "cell_type": "code",
   "execution_count": 92,
   "metadata": {},
   "outputs": [],
   "source": [
    "class Solution:\n",
    "    \"\"\"\n",
    "    overkill class to solve two sum problem thats returns a list of indices \n",
    "    --nums-- list input\n",
    "    --target-- int input \n",
    "    \"\"\"\n",
    "    def __init__(self,nums,target):\n",
    "        self.nums = nums\n",
    "        self.target = target\n",
    "\n",
    "    def twoSum(self):\n",
    "        sol = None\n",
    "        for idx1, _ in enumerate(self.nums):\n",
    "            for idx2, _ in enumerate(self.nums):\n",
    "                calc = self.nums[idx1] + self.nums[idx2]\n",
    "                if calc == self.target:\n",
    "                    sol = [idx1,idx2] \n",
    "        if sol is None:\n",
    "            print(\"No combination possible\")\n",
    "        \n",
    "        return sol\n",
    "        "
   ]
  },
  {
   "cell_type": "code",
   "execution_count": 93,
   "metadata": {},
   "outputs": [
    {
     "name": "stdout",
     "output_type": "stream",
     "text": [
      "No combination possible\n"
     ]
    }
   ],
   "source": [
    "classSol = Solution(nums,target)\n",
    "\n",
    "classSol.twoSum()"
   ]
  }
 ],
 "metadata": {
  "kernelspec": {
   "display_name": "Python 3",
   "language": "python",
   "name": "python3"
  },
  "language_info": {
   "codemirror_mode": {
    "name": "ipython",
    "version": 3
   },
   "file_extension": ".py",
   "mimetype": "text/x-python",
   "name": "python",
   "nbconvert_exporter": "python",
   "pygments_lexer": "ipython3",
   "version": "3.11.4"
  }
 },
 "nbformat": 4,
 "nbformat_minor": 2
}
