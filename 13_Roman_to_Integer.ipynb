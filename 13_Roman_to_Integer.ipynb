{
 "cells": [
  {
   "cell_type": "code",
   "execution_count": 1,
   "metadata": {},
   "outputs": [],
   "source": [
    "input = \"MCMXCIV\""
   ]
  },
  {
   "cell_type": "code",
   "execution_count": 2,
   "metadata": {},
   "outputs": [],
   "source": [
    "lookuptable = {\n",
    "\"I\" : \"1\",\n",
    "\"IV\" : \"4\",\n",
    "\"V\" : \"5\",\n",
    "\"IX\" : \"9\",\n",
    "\"X\" : \"10\",\n",
    "\"XL\" : \"40\",\n",
    "\"L\" : \"50\",\n",
    "\"XC\" : \"90\",\n",
    "\"C\" : \"100\",\n",
    "\"CD\" : \"400\",\n",
    "\"D\" : \"500\",\n",
    "\"CM\" : \"900\",\n",
    "\"M\" : \"1000\"\n",
    "}"
   ]
  },
  {
   "cell_type": "code",
   "execution_count": 6,
   "metadata": {},
   "outputs": [],
   "source": [
    "strg = \"\""
   ]
  },
  {
   "cell_type": "code",
   "execution_count": 13,
   "metadata": {},
   "outputs": [
    {
     "name": "stdout",
     "output_type": "stream",
     "text": [
      "IV\n"
     ]
    }
   ],
   "source": [
    "for _ in range(len(input)):\n",
    "    if _ == len(input)-2:\n",
    "        if input[_]+input[_+1] in [\"IV\",\"IX\",\"XL\",\"XC\",\"CD\",\"CM\"]:\n",
    "            print(input[_]+input[_+1])\n",
    "            strg += lookuptable[input[_]+input[_+1]]\n",
    "            input.remove()"
   ]
  },
  {
   "cell_type": "code",
   "execution_count": 11,
   "metadata": {},
   "outputs": [
    {
     "data": {
      "text/plain": [
       "'9009044'"
      ]
     },
     "execution_count": 11,
     "metadata": {},
     "output_type": "execute_result"
    }
   ],
   "source": [
    "strg"
   ]
  },
  {
   "cell_type": "code",
   "execution_count": null,
   "metadata": {},
   "outputs": [],
   "source": []
  }
 ],
 "metadata": {
  "kernelspec": {
   "display_name": "Python 3",
   "language": "python",
   "name": "python3"
  },
  "language_info": {
   "codemirror_mode": {
    "name": "ipython",
    "version": 3
   },
   "file_extension": ".py",
   "mimetype": "text/x-python",
   "name": "python",
   "nbconvert_exporter": "python",
   "pygments_lexer": "ipython3",
   "version": "3.11.4"
  }
 },
 "nbformat": 4,
 "nbformat_minor": 2
}
