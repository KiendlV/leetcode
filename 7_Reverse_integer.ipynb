{
 "cells": [
  {
   "cell_type": "code",
   "execution_count": 8,
   "metadata": {},
   "outputs": [],
   "source": [
    "input = [-120000,235,89076,-10]"
   ]
  },
  {
   "cell_type": "code",
   "execution_count": 16,
   "metadata": {},
   "outputs": [],
   "source": [
    "def reverser(input):\n",
    "    strg = str(input)\n",
    "    valid_sub = \"\"\n",
    "    if strg[0] != '-':\n",
    "        rev = strg[::-1]        \n",
    "        for _,item in enumerate(rev):           \n",
    "            if item != '0':\n",
    "                valid_sub += item\n",
    "\n",
    "    else:\n",
    "        return int('-' + str(reverser(abs(input)))) # this seems unnecessary but no better fix for now\n",
    "        \n",
    "    return (int(valid_sub))\n"
   ]
  },
  {
   "cell_type": "code",
   "execution_count": 17,
   "metadata": {},
   "outputs": [
    {
     "name": "stdout",
     "output_type": "stream",
     "text": [
      "[-21, 532, 6798, -1]\n"
     ]
    }
   ],
   "source": [
    "solutions = []\n",
    "for item in input:\n",
    "    solutions.append(reverser(item))\n",
    "\n",
    "print(solutions)"
   ]
  },
  {
   "cell_type": "code",
   "execution_count": null,
   "metadata": {},
   "outputs": [],
   "source": []
  }
 ],
 "metadata": {
  "kernelspec": {
   "display_name": "Python 3",
   "language": "python",
   "name": "python3"
  },
  "language_info": {
   "codemirror_mode": {
    "name": "ipython",
    "version": 3
   },
   "file_extension": ".py",
   "mimetype": "text/x-python",
   "name": "python",
   "nbconvert_exporter": "python",
   "pygments_lexer": "ipython3",
   "version": "3.11.4"
  }
 },
 "nbformat": 4,
 "nbformat_minor": 2
}
