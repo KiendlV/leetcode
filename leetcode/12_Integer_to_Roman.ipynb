{
 "cells": [
  {
   "cell_type": "code",
   "execution_count": 78,
   "metadata": {},
   "outputs": [],
   "source": [
    "input = 191"
   ]
  },
  {
   "cell_type": "code",
   "execution_count": 75,
   "metadata": {},
   "outputs": [],
   "source": [
    "roman_setter = \"\""
   ]
  },
  {
   "cell_type": "code",
   "execution_count": null,
   "metadata": {},
   "outputs": [],
   "source": [
    "lookuptable = {\n",
    "\"I\" : \"1\",\n",
    "\"IV\" : \"4\",\n",
    "\"V\" : \"5\",\n",
    "\"IX\" : \"9\",\n",
    "\"X\" : \"10\",\n",
    "\"XL\" : \"40\",\n",
    "\"L\" : \"50\",\n",
    "\"XC\" : \"90\",\n",
    "\"C\" : \"100\",\n",
    "\"CD\" : \"400\",\n",
    "\"D\" : \"500\",\n",
    "\"CM\" : \"900\",\n",
    "\"M\" : \"1000\"\n",
    "}"
   ]
  },
  {
   "cell_type": "code",
   "execution_count": 76,
   "metadata": {},
   "outputs": [],
   "source": [
    "def integer_conv(input:int,roman):\n",
    "    \"\"\"\n",
    "    takes in any integer number and converts it into a roman number\n",
    "    \"\"\"\n",
    "    rest_list = []\n",
    "    rest_list_comb = []\n",
    "    abc = int()\n",
    "    \n",
    "    for key,value in lookuptable.items():\n",
    "        rest = input - int(lookuptable[key])\n",
    "        if rest < 0:\n",
    "            continue\n",
    "        rest_list_comb.append((rest,key))\n",
    "        rest_list.append(rest)\n",
    "\n",
    "    rest_of = min(rest_list)\n",
    "    roman += rest_list_comb[-1][1]\n",
    "    if 0 not in rest_list:\n",
    "        integer_conv(rest_of,roman)\n",
    "    else:\n",
    "        print(roman)"
   ]
  },
  {
   "cell_type": "code",
   "execution_count": 77,
   "metadata": {},
   "outputs": [
    {
     "name": "stdout",
     "output_type": "stream",
     "text": [
      "CXCI\n"
     ]
    }
   ],
   "source": [
    "rom = integer_conv(input,roman_setter)"
   ]
  }
 ],
 "metadata": {
  "kernelspec": {
   "display_name": "Python 3",
   "language": "python",
   "name": "python3"
  },
  "language_info": {
   "codemirror_mode": {
    "name": "ipython",
    "version": 3
   },
   "file_extension": ".py",
   "mimetype": "text/x-python",
   "name": "python",
   "nbconvert_exporter": "python",
   "pygments_lexer": "ipython3",
   "version": "3.11.4"
  }
 },
 "nbformat": 4,
 "nbformat_minor": 2
}
