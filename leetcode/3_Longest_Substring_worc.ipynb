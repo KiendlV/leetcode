{
 "cells": [
  {
   "cell_type": "code",
   "execution_count": 2,
   "metadata": {},
   "outputs": [],
   "source": [
    "string = \"abcabcbb\""
   ]
  },
  {
   "cell_type": "code",
   "execution_count": 5,
   "metadata": {},
   "outputs": [
    {
     "name": "stdout",
     "output_type": "stream",
     "text": [
      "3\n"
     ]
    }
   ],
   "source": [
    "counter = 0\n",
    "max_val = int()\n",
    "\n",
    "max_val_list = []\n",
    "\n",
    "item_L = []\n",
    "\n",
    "for idx1,item1 in enumerate(string):\n",
    "    current_leftbound = string[idx1]\n",
    "    if item1 not in item_L:\n",
    "        item_L.append(item1)\n",
    "        counter += 1\n",
    "\n",
    "    else:           \n",
    "        item_L = []\n",
    "        max_val = counter\n",
    "        max_val_list.append(max_val)\n",
    "        counter = 0\n",
    "print(max(max_val_list))  "
   ]
  }
 ],
 "metadata": {
  "kernelspec": {
   "display_name": "Python 3",
   "language": "python",
   "name": "python3"
  },
  "language_info": {
   "codemirror_mode": {
    "name": "ipython",
    "version": 3
   },
   "file_extension": ".py",
   "mimetype": "text/x-python",
   "name": "python",
   "nbconvert_exporter": "python",
   "pygments_lexer": "ipython3",
   "version": "3.11.4"
  }
 },
 "nbformat": 4,
 "nbformat_minor": 2
}
