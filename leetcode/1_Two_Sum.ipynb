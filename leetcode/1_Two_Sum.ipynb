{
 "cells": [
  {
   "cell_type": "code",
   "execution_count": 94,
   "metadata": {},
   "outputs": [],
   "source": [
    "nums = [1,2,3]\n",
    "targets = [5,9]"
   ]
  },
  {
   "cell_type": "code",
   "execution_count": 111,
   "metadata": {},
   "outputs": [],
   "source": [
    "class Solution:\n",
    "    \"\"\"\n",
    "    overkill class to solve two sum problem thats returns a list of indices \n",
    "    --nums-- list input\n",
    "    --target-- int input \n",
    "    \"\"\"\n",
    "    def __init__(self,nums,target):\n",
    "        self.nums = nums\n",
    "        self.target = target\n",
    "\n",
    "    def twoSum(self):\n",
    "        sol = None\n",
    "        for idx1, _ in enumerate(self.nums):\n",
    "            for idx2, _ in enumerate(self.nums):\n",
    "                calc = self.nums[idx1] + self.nums[idx2]\n",
    "                if calc == self.target:\n",
    "                    sol = [idx1,idx2] \n",
    "        if sol is None:\n",
    "            print(\"No combination possible\")\n",
    "        else:\n",
    "            print(sol)\n",
    "\n",
    "        #return sol #wether or not you need that output\n",
    "        "
   ]
  },
  {
   "cell_type": "code",
   "execution_count": 112,
   "metadata": {},
   "outputs": [
    {
     "name": "stdout",
     "output_type": "stream",
     "text": [
      "[2, 1]\n",
      "No combination possible\n"
     ]
    }
   ],
   "source": [
    "for _ in targets:\n",
    "    classSol = Solution(nums,_)\n",
    "    classSol.twoSum()"
   ]
  }
 ],
 "metadata": {
  "kernelspec": {
   "display_name": "Python 3",
   "language": "python",
   "name": "python3"
  },
  "language_info": {
   "codemirror_mode": {
    "name": "ipython",
    "version": 3
   },
   "file_extension": ".py",
   "mimetype": "text/x-python",
   "name": "python",
   "nbconvert_exporter": "python",
   "pygments_lexer": "ipython3",
   "version": "3.11.4"
  }
 },
 "nbformat": 4,
 "nbformat_minor": 2
}
