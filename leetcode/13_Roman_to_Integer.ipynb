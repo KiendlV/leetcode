{
 "cells": [
  {
   "cell_type": "markdown",
   "metadata": {},
   "source": [
    "not finished"
   ]
  },
  {
   "cell_type": "code",
   "execution_count": 3,
   "metadata": {},
   "outputs": [],
   "source": [
    "input = \"MCMXCIV\""
   ]
  },
  {
   "cell_type": "code",
   "execution_count": 4,
   "metadata": {},
   "outputs": [],
   "source": [
    "lookuptable = {\n",
    "\"I\" : \"1\",\n",
    "\"IV\" : \"4\",\n",
    "\"V\" : \"5\",\n",
    "\"IX\" : \"9\",\n",
    "\"X\" : \"10\",\n",
    "\"XL\" : \"40\",\n",
    "\"L\" : \"50\",\n",
    "\"XC\" : \"90\",\n",
    "\"C\" : \"100\",\n",
    "\"CD\" : \"400\",\n",
    "\"D\" : \"500\",\n",
    "\"CM\" : \"900\",\n",
    "\"M\" : \"1000\"\n",
    "}\n",
    "\n",
    "crucial = [\"IV\",\"IX\",\"XL\",\"XC\",\"CD\",\"CM\"]"
   ]
  },
  {
   "cell_type": "code",
   "execution_count": 82,
   "metadata": {},
   "outputs": [],
   "source": [
    "def pruner(input):\n",
    "\n",
    "    input = input\n",
    "    print(input)\n",
    "    integer = []\n",
    "    item_list = []\n",
    "\n",
    "    for idx,item in enumerate(crucial):\n",
    "        if item in input:\n",
    "            #print(item)\n",
    "            item_list.append(item)\n",
    "            integer.append(lookuptable[item])\n",
    "    for _ in item_list:\n",
    "        new = input.replace(_,\"\")\n",
    "        print(new)\n",
    "    return integer , input\n",
    "        "
   ]
  },
  {
   "cell_type": "code",
   "execution_count": 83,
   "metadata": {},
   "outputs": [
    {
     "name": "stdout",
     "output_type": "stream",
     "text": [
      "MCMXCIV\n",
      "MCMXC\n",
      "MCMIV\n",
      "MXCIV\n"
     ]
    }
   ],
   "source": [
    "\n",
    "summ = int()\n",
    "for _ in pruner(input)[0]:\n",
    "    summ += int(_)"
   ]
  },
  {
   "cell_type": "code",
   "execution_count": 77,
   "metadata": {},
   "outputs": [
    {
     "data": {
      "text/plain": [
       "994"
      ]
     },
     "execution_count": 77,
     "metadata": {},
     "output_type": "execute_result"
    }
   ],
   "source": [
    "summ"
   ]
  },
  {
   "cell_type": "code",
   "execution_count": 78,
   "metadata": {},
   "outputs": [
    {
     "name": "stdout",
     "output_type": "stream",
     "text": [
      "MCMXCIV\n"
     ]
    },
    {
     "data": {
      "text/plain": [
       "(['4', '90', '900'], 'M')"
      ]
     },
     "execution_count": 78,
     "metadata": {},
     "output_type": "execute_result"
    }
   ],
   "source": [
    "pruner(input)"
   ]
  }
 ],
 "metadata": {
  "kernelspec": {
   "display_name": "Python 3",
   "language": "python",
   "name": "python3"
  },
  "language_info": {
   "codemirror_mode": {
    "name": "ipython",
    "version": 3
   },
   "file_extension": ".py",
   "mimetype": "text/x-python",
   "name": "python",
   "nbconvert_exporter": "python",
   "pygments_lexer": "ipython3",
   "version": "3.11.4"
  }
 },
 "nbformat": 4,
 "nbformat_minor": 2
}
