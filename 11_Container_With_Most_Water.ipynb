{
 "cells": [
  {
   "cell_type": "code",
   "execution_count": 9,
   "metadata": {},
   "outputs": [],
   "source": [
    "input = [1,8,6,2,5,4,8,3,7]"
   ]
  },
  {
   "cell_type": "code",
   "execution_count": 14,
   "metadata": {},
   "outputs": [],
   "source": [
    "def sorting(input):\n",
    "    \"\"\"\n",
    "    brute force style with complexity O(n!)\n",
    "    takes a list as input and gives out the interval with the biggest area that forms a valid rectangle\n",
    "    \"\"\"\n",
    "    areas = []\n",
    "    maxarea = 0 # check bottom comment\n",
    "    for idx1,item1 in enumerate(input):\n",
    "        for idx2,item2 in enumerate(input):\n",
    "            if item1 > item2:\n",
    "                height = item2\n",
    "            else:\n",
    "                height = item1\n",
    "            if (idx1 == idx2):\n",
    "                continue\n",
    "            else:\n",
    "                curr_area = height * (idx2-idx1)\n",
    "                areas.append(curr_area)\n",
    "                maxarea = max(maxarea,curr_area) # unnecessary but might reduce the max() time if checked at each loop\n",
    "    return areas,len(areas),maxarea\n"
   ]
  },
  {
   "cell_type": "code",
   "execution_count": 18,
   "metadata": {},
   "outputs": [
    {
     "data": {
      "text/plain": [
       "49"
      ]
     },
     "execution_count": 18,
     "metadata": {},
     "output_type": "execute_result"
    }
   ],
   "source": [
    "sorting(input)[2]"
   ]
  },
  {
   "cell_type": "code",
   "execution_count": 15,
   "metadata": {},
   "outputs": [
    {
     "data": {
      "text/plain": [
       "49"
      ]
     },
     "execution_count": 15,
     "metadata": {},
     "output_type": "execute_result"
    }
   ],
   "source": [
    "max(sorting(input)[0])"
   ]
  }
 ],
 "metadata": {
  "kernelspec": {
   "display_name": "Python 3",
   "language": "python",
   "name": "python3"
  },
  "language_info": {
   "codemirror_mode": {
    "name": "ipython",
    "version": 3
   },
   "file_extension": ".py",
   "mimetype": "text/x-python",
   "name": "python",
   "nbconvert_exporter": "python",
   "pygments_lexer": "ipython3",
   "version": "3.11.4"
  }
 },
 "nbformat": 4,
 "nbformat_minor": 2
}
