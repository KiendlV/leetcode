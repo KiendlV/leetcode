{
 "cells": [
  {
   "cell_type": "code",
   "execution_count": 1,
   "metadata": {},
   "outputs": [],
   "source": [
    "input = [\"4\",\"2\",\"+\",\"3\",\"*\",\"/\",\"3\",\"-\",\"20\"]"
   ]
  },
  {
   "cell_type": "code",
   "execution_count": 2,
   "metadata": {},
   "outputs": [],
   "source": [
    "class polish_converter():\n",
    "    \"\"\"\n",
    "    takes in a list of a function written in reverse polish notation\n",
    "    returns its numeric value\n",
    "    \"\"\"\n",
    "    def __init__(self,input):\n",
    "\n",
    "        self.input = input\n",
    "        self.int_1 = int()\n",
    "        self.int_2 = int()\n",
    "\n",
    "        self.integer = []\n",
    "        self.ops = []\n",
    "\n",
    "    def printed(self):\n",
    "        print(self.input)\n",
    "\n",
    "    def plus(self):\n",
    "        return self.int_1 + self.int_2\n",
    "    \n",
    "    def minus(self):\n",
    "        return self.int_1 - self.int_2\n",
    "    \n",
    "    def mul(self):\n",
    "        return self.int_1 * self.int_2\n",
    "    \n",
    "    def div(self):\n",
    "        return self.int_1 / self.int_2\n",
    "    \n",
    "    def polish_conv(self):\n",
    "        for _ in self.input:\n",
    "            try:\n",
    "                if int(_) != None:\n",
    "                    self.integer.append(_)\n",
    "            except:\n",
    "                self.ops.append(_)\n",
    "        print(self.integer,self.ops)\n",
    "\n",
    "    def check_op(self, _):\n",
    "\n",
    "        if _ == \"+\":\n",
    "            add = self.plus()\n",
    "            self.integer.insert(0,add)\n",
    "        elif _ == \"-\":\n",
    "            min = self.minus()\n",
    "            self.integer.insert(0,min)\n",
    "        elif _ == \"*\":\n",
    "            mul = self.mul()\n",
    "            self.integer.insert(0,mul)\n",
    "        elif _ == \"/\":\n",
    "            div = self.div()\n",
    "            self.integer.insert(0,div)\n",
    "        \n",
    "        return self.integer\n",
    "\n",
    "    def set_elements(self):\n",
    "\n",
    "        self.int_1, self.int_2 = int(self.integer[0]),int(self.integer[1])\n",
    "\n",
    "    def tuple_to_one(self):\n",
    "\n",
    "        self.polish_conv()\n",
    "\n",
    "        for _ in range(len(self.ops)):\n",
    "\n",
    "            self.set_elements()    \n",
    "            self.integer.remove(self.integer[0])\n",
    "            self.integer.remove(self.integer[0])\n",
    "            self.check_op(self.ops[0])\n",
    "\n",
    "            self.ops.remove(self.ops[0])\n",
    "\n",
    "        final_value = self.integer\n",
    "        \n",
    "        self.integer,self.ops = [],[]\n",
    "\n",
    "        print(final_value)"
   ]
  },
  {
   "cell_type": "code",
   "execution_count": 3,
   "metadata": {},
   "outputs": [],
   "source": [
    "ele = polish_converter(input)"
   ]
  },
  {
   "cell_type": "code",
   "execution_count": 4,
   "metadata": {},
   "outputs": [
    {
     "name": "stdout",
     "output_type": "stream",
     "text": [
      "['4', '2', '+', '3', '*', '/', '3', '-', '20']\n"
     ]
    }
   ],
   "source": [
    "ele.printed()"
   ]
  },
  {
   "cell_type": "code",
   "execution_count": 5,
   "metadata": {},
   "outputs": [
    {
     "name": "stdout",
     "output_type": "stream",
     "text": [
      "['4', '2', '3', '3', '20'] ['+', '*', '/', '-']\n",
      "[-14]\n"
     ]
    }
   ],
   "source": [
    "ele.tuple_to_one()"
   ]
  }
 ],
 "metadata": {
  "kernelspec": {
   "display_name": "Python 3",
   "language": "python",
   "name": "python3"
  },
  "language_info": {
   "codemirror_mode": {
    "name": "ipython",
    "version": 3
   },
   "file_extension": ".py",
   "mimetype": "text/x-python",
   "name": "python",
   "nbconvert_exporter": "python",
   "pygments_lexer": "ipython3",
   "version": "3.11.4"
  }
 },
 "nbformat": 4,
 "nbformat_minor": 2
}
